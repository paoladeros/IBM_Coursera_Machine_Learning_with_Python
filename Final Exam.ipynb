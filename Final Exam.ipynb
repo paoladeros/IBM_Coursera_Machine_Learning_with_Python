{
 "cells": [
  {
   "cell_type": "markdown",
   "metadata": {
    "collapsed": true
   },
   "source": [
    "# Final Exam "
   ]
  },
  {
   "cell_type": "markdown",
   "metadata": {},
   "source": [
    "Questions "
   ]
  },
  {
   "cell_type": "markdown",
   "metadata": {},
   "source": [
    "Which of the following is true about Machine Learning?\n",
    "\n",
    "* Machine Learning models help us in tasks such as object recognition, summarization, and recommendation.\n",
    "\n",
    "\n",
    "* Machine Learning models iteratively learn from data and allow computers to find hidden insights.\n",
    "\n",
    "\n",
    "* Machine Learning was inspired by the learning process of human beings.\n",
    "\n",
    "\n",
    "* All of the above."
   ]
  },
  {
   "cell_type": "markdown",
   "metadata": {},
   "source": [
    "Correct: All of the above"
   ]
  },
  {
   "cell_type": "markdown",
   "metadata": {},
   "source": [
    "Which of the following is not true about Machine Learning?\n",
    "\n",
    "\n",
    "* Machine Learning was inspired by the learning process of human beings.\n",
    "\n",
    "\n",
    "* Machine Learning models iteratively learn from data, and allow computers to find hidden insights.\n",
    "\n",
    "\n",
    "* Machine learning gives computers the ability to make decision by writing down rules and methods and being explicitly programmed.\n",
    "\n",
    "\n",
    "* Machine Learning models help us in tasks such as object recognition, summarization, and recommendation."
   ]
  },
  {
   "cell_type": "markdown",
   "metadata": {},
   "source": [
    "Correct: Machine learning gives computers the ability to make decision by writing down rules and methods and being explicitly programmed."
   ]
  },
  {
   "cell_type": "markdown",
   "metadata": {},
   "source": [
    "Which of the following is not a Machine Learning technique?\n",
    "* Regression/Estimation\n",
    "\n",
    "\n",
    "* Clustering\n",
    "\n",
    "\n",
    "* Heuristics\n",
    "\n",
    "\n",
    "* Associations"
   ]
  },
  {
   "cell_type": "markdown",
   "metadata": {},
   "source": [
    "Correct: Heuristics"
   ]
  },
  {
   "cell_type": "markdown",
   "metadata": {},
   "source": [
    "Multiple Linear Regression is appropriate for:\n",
    "\n",
    "\n",
    "* Predicting whether a drug is effective for a patient based on her characteristics\n",
    "\n",
    "\n",
    "* Predicting tomorrow's rainfall amount based on the wind speed and temperature\n",
    "\n",
    "\n",
    "* Predicting the sales amount based on month"
   ]
  },
  {
   "cell_type": "markdown",
   "metadata": {},
   "source": [
    "Correct: Predicting tomorrow's rainfall amount based on the wind speed and temperature"
   ]
  },
  {
   "cell_type": "markdown",
   "metadata": {},
   "source": [
    "When would you not use Multiple Linear Regression?\n",
    "\n",
    "\n",
    "* None of the above.\n",
    "\n",
    "\n",
    "* When we would like to predict the impacts that weather and temperature have on a particular crop.\n",
    "\n",
    "\n",
    "* When we would like to identify the strength of the effect that the independent variables have on a dependent variable. \n",
    "\n",
    "\n",
    "* When we would like to predict impacts of changes in independent variables on a dependent variable."
   ]
  },
  {
   "cell_type": "markdown",
   "metadata": {},
   "source": [
    "Correct: When we would like to predict the impacts that weather and temperature have on a particular crop."
   ]
  },
  {
   "cell_type": "markdown",
   "metadata": {},
   "source": [
    "Which of the following statements is NOT true about Polynomial Regression?\n",
    "\n",
    "\n",
    "* Polynomial regression fits a curve line to your data.\n",
    "\n",
    "\n",
    "* Polynomial regression models can fit using the Least Squares method.\n",
    "\n",
    "\n",
    "* Polynomial regression can use the same mechanism as Multiple Linear Regression to find the parameters.\n",
    "\n",
    "\n",
    "* Observational data are modeled by a function which is a nonlinear combination of the model parameters and depends on one or more independent variables."
   ]
  },
  {
   "cell_type": "markdown",
   "metadata": {},
   "source": [
    "Correct: Observational data are modeled by a function which is a nonlinear combination of the model parameters and depends on one or more independent variables."
   ]
  },
  {
   "cell_type": "markdown",
   "metadata": {},
   "source": [
    "Which of the below is a sample of classification problem?\n",
    "\n",
    "\n",
    "* To predict the category to which a customer belongs to.\n",
    "\n",
    "\n",
    "* To predict whether a customer switches to another provider/brand. \n",
    "\n",
    "\n",
    "* To predict whether a customer responds to a particular advertising campaign or not.\n",
    "\n",
    "\n",
    "* All of the above"
   ]
  },
  {
   "cell_type": "markdown",
   "metadata": {},
   "source": [
    "Correct: To predict whether a customer switches to another provider/brand."
   ]
  },
  {
   "cell_type": "markdown",
   "metadata": {},
   "source": [
    "Which one IS NOT a sample of classification problem?\n",
    "\n",
    "\n",
    "* To predict the amount of money a customer will spend in one year.\n",
    "\n",
    "\n",
    "* To predict whether a customer switches to another provider/brand. \n",
    "\n",
    "\n",
    "* To predict whether a customer responds to a particular advertising campaign or not.\n",
    "\n",
    "\n",
    "* To predict the category to which a customer belongs to."
   ]
  },
  {
   "cell_type": "markdown",
   "metadata": {},
   "source": [
    "Correct: To predict the amount of money a customer will spend in one year."
   ]
  },
  {
   "cell_type": "markdown",
   "metadata": {},
   "source": [
    "What is a statistical model that uses Logistic function to model the conditional probability?\n",
    "\n",
    "\n",
    "* Stepwise Regression\n",
    "\n",
    "\n",
    "* Logistic regression\n",
    "\n",
    "\n",
    "* Ridge regression\n",
    "\n",
    "\n",
    "* Linear regression"
   ]
  },
  {
   "cell_type": "markdown",
   "metadata": {},
   "source": [
    "Correct: \n",
    "Logistic regression"
   ]
  },
  {
   "cell_type": "markdown",
   "metadata": {},
   "source": [
    "Which of the following is an example of Logistic Regression?\n",
    "\n",
    "\n",
    "* The probability of a person purchasing life insurance based on age and income.\n",
    "\n",
    "\n",
    "* All of the above.\n",
    "\n",
    "\n",
    "* The odds of a particular individual having a heart attack based on how much they exercise and how much they weigh.\n",
    "\n",
    "\n",
    "* The probability of a borrower defaulting on their mortgage based upon their credit score and age."
   ]
  },
  {
   "cell_type": "markdown",
   "metadata": {},
   "source": [
    "Correct: All of the above."
   ]
  },
  {
   "cell_type": "markdown",
   "metadata": {},
   "source": [
    "Which statement is NOT TRUE about k-means clustering?\n",
    "\n",
    "\n",
    "* k-means divides the data into non-overlapping clusters without any cluster-internal structure.\n",
    "\n",
    "\n",
    "* As k-means is an iterative algorithm, it guarantees that it will always converge to the global optimum. \n",
    "\n",
    "\n",
    "* The objective of k-means, is to form clusters in such a way that similar samples go into a cluster, and dissimilar samples fall into different clusters. "
   ]
  },
  {
   "cell_type": "markdown",
   "metadata": {},
   "source": [
    "Correct: \n",
    "As k-means is an iterative algorithm, it guarantees that it will always converge to the global optimum. "
   ]
  },
  {
   "cell_type": "markdown",
   "metadata": {},
   "source": [
    "\n",
    "Which of the following statements is false for k-means clustering?\n",
    "\n",
    "\n",
    "\n",
    "* k-means clustering creates a tree of clusters\n",
    "\n",
    "\n",
    "* None of the above.\n",
    "\n",
    "\n",
    "* The object of k-means is to form clusters in such a way that similar samples go into a cluster, and dissimilar samples fall into different clusters.\n",
    "\n",
    "\n",
    "* k-means divides the data into non-overlapping clusters without any cluster-interval structure."
   ]
  },
  {
   "cell_type": "markdown",
   "metadata": {},
   "source": [
    "Corect: \n",
    "k-means clustering creates a tree of clusters"
   ]
  },
  {
   "cell_type": "markdown",
   "metadata": {},
   "source": [
    "What does DBCSAN stand for?\n",
    "\n",
    "\n",
    "* Density-based Spatial Cores of Applications with Noise.\n",
    "\n",
    "\n",
    "* Density-Based Spatial Clustering of Applications with Noise.\n",
    "\n",
    "\n",
    "* Data-Based Sample Clustering of Applications with Noise.\n",
    "\n",
    "\n",
    "* Data-Based Spatial Clustering of Applications with Noise."
   ]
  },
  {
   "cell_type": "markdown",
   "metadata": {},
   "source": [
    "Correct: Density-Based Spatial Clustering of Applications with Noise."
   ]
  },
  {
   "cell_type": "markdown",
   "metadata": {},
   "source": [
    "A _______________ system provides a better experience for the user by giving them a broader exposure to many different products they might be interested in.\n",
    "\n",
    "\n",
    "* Resource\n",
    "\n",
    "\n",
    "* Recommender\n",
    "\n",
    "\n",
    "* Relationship\n",
    "\n",
    "\n",
    "* Reinforcement"
   ]
  },
  {
   "cell_type": "markdown",
   "metadata": {},
   "source": [
    "Correct: Recommender"
   ]
  },
  {
   "cell_type": "markdown",
   "metadata": {},
   "source": [
    "The statement “Show me more of the same of what I’ve liked before” is an example of what type of recommendation system?\n",
    "\n",
    "\n",
    "* Collaborative\n",
    "\n",
    "\n",
    "* Utility-based\n",
    "\n",
    "\n",
    "* Demographic-based\n",
    "\n",
    "\n",
    "* Content-based"
   ]
  },
  {
   "cell_type": "markdown",
   "metadata": {},
   "source": [
    "Correct: Content-based"
   ]
  },
  {
   "cell_type": "markdown",
   "metadata": {},
   "source": [
    "Which of the following is NOT true regarding content-based recommendation systems?\n",
    "\n",
    "\n",
    "* Content-based recommendation system tries to recommend items based on similarity among items.\n",
    "\n",
    "\n",
    "* Content-based recommendation system tries to recommend items based on the similarity of users when buying, watching, or enjoying something.\n",
    "\n",
    "\n",
    "* Content-based recommendation system tries to recommend items based on the preferences of people living in your area.\n",
    "\n",
    "\n",
    "* All of the above."
   ]
  },
  {
   "cell_type": "markdown",
   "metadata": {},
   "source": [
    "Correct: All of above"
   ]
  },
  {
   "cell_type": "code",
   "execution_count": null,
   "metadata": {},
   "outputs": [],
   "source": []
  }
 ],
 "metadata": {
  "kernelspec": {
   "display_name": "Python 3.7",
   "language": "python",
   "name": "python3"
  },
  "language_info": {
   "codemirror_mode": {
    "name": "ipython",
    "version": 3
   },
   "file_extension": ".py",
   "mimetype": "text/x-python",
   "name": "python",
   "nbconvert_exporter": "python",
   "pygments_lexer": "ipython3",
   "version": "3.7.10"
  }
 },
 "nbformat": 4,
 "nbformat_minor": 1
}
